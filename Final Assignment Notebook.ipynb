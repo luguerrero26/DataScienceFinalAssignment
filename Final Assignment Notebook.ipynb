{
 "cells": [
  {
   "cell_type": "markdown",
   "metadata": {},
   "source": [
    "<center>\n",
    "    <img src=\"https://cf-courses-data.s3.us.cloud-object-storage.appdomain.cloud/IBMDeveloperSkillsNetwork-DS0105EN-SkillsNetwork/labs/Module2/images/SN_web_lightmode.png\" width=\"300\" alt=\"cognitiveclass.ai logo\">\n",
    "</center>\n"
   ]
  },
  {
   "cell_type": "markdown",
   "metadata": {},
   "source": [
    "#### Add your code below following the instructions given in the course\n"
   ]
  },
  {
   "cell_type": "markdown",
   "metadata": {},
   "source": [
    "# Final Assignment Notebook\n",
    "\n"
   ]
  },
  {
   "cell_type": "markdown",
   "metadata": {},
   "source": [
    "## Introduction\n",
    "\n",
    "Data Science is an important tool to work with data in the modern world.\n"
   ]
  },
  {
   "cell_type": "markdown",
   "metadata": {},
   "source": [
    "## Data Science Languages\n",
    "\n",
    "The following is a list of different Data Science Languages\n",
    "\n",
    "- Python\n",
    "- R\n",
    "- Julia\n",
    "- Scala\n",
    "- SQL\n",
    "- Java\n",
    "- C/C++\n",
    "\n",
    "\n"
   ]
  },
  {
   "cell_type": "markdown",
   "metadata": {},
   "source": [
    "## Data Sience Libraries\n",
    "\n",
    "The follwoing is a list of Data Science Libraires\n",
    "\n",
    "- ggplot\n",
    "- Numpy\n",
    "- Plotly\n",
    "- Matplotlib\n",
    "- Pandas\n",
    "- Scikit-learn\n",
    "- SciPy\n",
    "- TensorFlow\n",
    "- Keras\n",
    "- Seaborn\n",
    "- PyTorch\n",
    "- Caret\n",
    "\n"
   ]
  },
  {
   "cell_type": "markdown",
   "metadata": {},
   "source": [
    "## Data Sience Tools\n",
    "\n",
    "The following is a table with popular Data Science tools:\n",
    "\n",
    "Data Science Tools|\n",
    "-------------------|\n",
    "Hadoop|\n",
    "Apache Spark|\n",
    "Mongo|\n",
    "Hive|\n",
    "\n",
    "\n"
   ]
  },
  {
   "cell_type": "markdown",
   "metadata": {},
   "source": [
    "## Arithmetic expression examples\n",
    "\n",
    "The following are some examples arithmetic expressions\n",
    "\n",
    "- Addition: 1+1 = 2\n",
    "- Substraction: 1-1 = 0\n",
    "- Multiplication: 1x1 = 1\n",
    "- Division: 1/1 = 1\n",
    "\n"
   ]
  },
  {
   "cell_type": "code",
   "execution_count": 1,
   "metadata": {},
   "outputs": [
    {
     "data": {
      "text/plain": [
       "10"
      ]
     },
     "execution_count": 1,
     "metadata": {},
     "output_type": "execute_result"
    }
   ],
   "source": [
    "# Excersice 8: Code cell to multiply and add numbers\n",
    "\n",
    "(1*3)+7\n"
   ]
  },
  {
   "cell_type": "code",
   "execution_count": 2,
   "metadata": {},
   "outputs": [
    {
     "data": {
      "text/plain": [
       "2.0"
      ]
     },
     "execution_count": 2,
     "metadata": {},
     "output_type": "execute_result"
    }
   ],
   "source": [
    "# Excersice 9: Create a code cell to convert minutes to hours\n",
    "\n",
    "minutes = 120 # Change number to amount of minutes\n",
    "hours = minutes/60\n",
    "hours\n"
   ]
  },
  {
   "cell_type": "markdown",
   "metadata": {},
   "source": [
    "## Objectives\n",
    "\n",
    "The following is a list of Objectives\n",
    "\n",
    "- Learn about Data Science\n",
    "- Finish this project\n",
    "- Land a job in IT\n",
    "\n"
   ]
  },
  {
   "cell_type": "markdown",
   "metadata": {},
   "source": [
    "# Author's Name: Lucia Guerrero\n"
   ]
  },
  {
   "cell_type": "code",
   "execution_count": null,
   "metadata": {},
   "outputs": [],
   "source": []
  }
 ],
 "metadata": {
  "kernelspec": {
   "display_name": "Python 3 (ipykernel)",
   "language": "python",
   "name": "python3"
  },
  "language_info": {
   "codemirror_mode": {
    "name": "ipython",
    "version": 3
   },
   "file_extension": ".py",
   "mimetype": "text/x-python",
   "name": "python",
   "nbconvert_exporter": "python",
   "pygments_lexer": "ipython3",
   "version": "3.11.9"
  }
 },
 "nbformat": 4,
 "nbformat_minor": 4
}
